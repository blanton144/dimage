{
 "metadata": {
  "name": "",
  "signature": "sha256:92a0c4bfd076ec34f9d01c7fa2a819ab0d64ca31b7211f8f3d92b03eaba38d0f"
 },
 "nbformat": 3,
 "nbformat_minor": 0,
 "worksheets": [
  {
   "cells": [
    {
     "cell_type": "code",
     "collapsed": false,
     "input": [
      "%matplotlib inline\n",
      "import matplotlib.pyplot as ply\n",
      "import astropy\n",
      "import os\n",
      "import numpy as np"
     ],
     "language": "python",
     "metadata": {},
     "outputs": [],
     "prompt_number": 14
    },
    {
     "cell_type": "code",
     "collapsed": false,
     "input": [
      "bricksfile= os.path.join(os.getenv('DIMAGE_DIR'), 'data', 'decals', 'edr-bricks.fits')\n",
      "fp= astropy.io.fits.open(bricksfile)\n",
      "bricks= fp[1].data"
     ],
     "language": "python",
     "metadata": {},
     "outputs": [],
     "prompt_number": 15
    },
    {
     "cell_type": "code",
     "collapsed": false,
     "input": [
      "bricks.columns"
     ],
     "language": "python",
     "metadata": {},
     "outputs": [
      {
       "metadata": {},
       "output_type": "pyout",
       "prompt_number": 16,
       "text": [
        "ColDefs(\n",
        "    name = 'brickname'; format = '8A'\n",
        "    name = 'brickid'; format = 'J'\n",
        "    name = 'brickq'; format = 'I'\n",
        "    name = 'brickrow'; format = 'J'\n",
        "    name = 'brickcol'; format = 'J'\n",
        "    name = 'ra'; format = 'D'\n",
        "    name = 'dec'; format = 'D'\n",
        "    name = 'ra1'; format = 'D'\n",
        "    name = 'ra2'; format = 'D'\n",
        "    name = 'dec1'; format = 'D'\n",
        "    name = 'dec2'; format = 'D'\n",
        ")"
       ]
      }
     ],
     "prompt_number": 16
    },
    {
     "cell_type": "code",
     "collapsed": false,
     "input": [
      "plt.plot(bricks['RA'], bricks['DEC'], ',')\n",
      "plt.show()"
     ],
     "language": "python",
     "metadata": {},
     "outputs": [
      {
       "metadata": {},
       "output_type": "display_data",
       "png": "[encoded data removed]",
       "text": [
        "<matplotlib.figure.Figure at 0x10e28a790>"
       ]
      }
     ],
     "prompt_number": 17
    },
    {
     "cell_type": "code",
     "collapsed": false,
     "input": [
      "for i in range(10):\n",
      "    print bricks['BRICKID'][i]"
     ],
     "language": "python",
     "metadata": {},
     "outputs": [
      {
       "output_type": "stream",
       "stream": "stdout",
       "text": [
        "361543\n",
        "361544\n",
        "361545\n",
        "361546\n",
        "361547\n",
        "361548\n",
        "361549\n",
        "361550\n",
        "361551\n",
        "361552\n"
       ]
      }
     ],
     "prompt_number": 19
    },
    {
     "cell_type": "code",
     "collapsed": false,
     "input": [
      "len(bricks)"
     ],
     "language": "python",
     "metadata": {},
     "outputs": [
      {
       "metadata": {},
       "output_type": "pyout",
       "prompt_number": 20,
       "text": [
        "535"
       ]
      }
     ],
     "prompt_number": 20
    },
    {
     "cell_type": "code",
     "collapsed": false,
     "input": [],
     "language": "python",
     "metadata": {},
     "outputs": []
    }
   ],
   "metadata": {}
  }
 ]
}