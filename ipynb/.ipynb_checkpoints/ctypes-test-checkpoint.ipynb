{
 "metadata": {
  "name": "",
  "signature": "sha256:e92f58f80b8d07ef02a371cc392324a9fd3e3fcb17f835336914abaa668a48d5"
 },
 "nbformat": 3,
 "nbformat_minor": 0,
 "worksheets": []
}