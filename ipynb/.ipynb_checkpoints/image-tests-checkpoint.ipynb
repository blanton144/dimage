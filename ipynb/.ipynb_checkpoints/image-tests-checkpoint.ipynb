{
 "metadata": {
  "name": "",
  "signature": "sha256:c8db69e1e5ca0e09e7ef88cf2162ed43de0026bf4f53682ef6642dbe787e6f7f"
 },
 "nbformat": 3,
 "nbformat_minor": 0,
 "worksheets": [
  {
   "cells": [
    {
     "cell_type": "code",
     "collapsed": false,
     "input": [
      "%matplotlib inline\n",
      "import matplotlib.pyplot as plt\n",
      "import numpy as np\n",
      "import dimage"
     ],
     "language": "python",
     "metadata": {},
     "outputs": [],
     "prompt_number": 1
    },
    {
     "cell_type": "heading",
     "level": 5,
     "metadata": {},
     "source": [
      "Create mean image"
     ]
    },
    {
     "cell_type": "code",
     "collapsed": false,
     "input": [
      "nx=1000\n",
      "ny=1000\n",
      "mean_image= np.zeros((nx,ny), dtype=np.float32)"
     ],
     "language": "python",
     "metadata": {},
     "outputs": [],
     "prompt_number": 2
    },
    {
     "cell_type": "code",
     "collapsed": false,
     "input": [
      "mean_image= mean_image + 1000 # add background"
     ],
     "language": "python",
     "metadata": {},
     "outputs": [],
     "prompt_number": 3
    },
    {
     "cell_type": "code",
     "collapsed": false,
     "input": [
      "xgauss= 505.43\n",
      "ygauss= 493.33\n",
      "sgauss= 20.\n",
      "amp= 30000.\n",
      "ximage= np.outer(np.arange(nx, dtype=np.float32), np.ones(ny, dtype=np.float32))\n",
      "yimage= np.outer(np.ones(nx, dtype=np.float32), np.arange(ny, dtype=np.float32))\n",
      "r2image= (ximage-xgauss)**2+(yimage-ygauss)**2\n",
      "gauss_image= amp*np.exp(-0.5*r2image/sgauss**2)/(np.sqrt(2.*np.pi)*sgauss)\n",
      "mean_image= mean_image + gauss_image"
     ],
     "language": "python",
     "metadata": {},
     "outputs": [],
     "prompt_number": 4
    },
    {
     "cell_type": "code",
     "collapsed": false,
     "input": [
      "mean_image= 100000.*dimage.dfake(nx,ny, r50=50., n=1., ba=0.5, phi=45.)"
     ],
     "language": "python",
     "metadata": {},
     "outputs": [],
     "prompt_number": 12
    },
    {
     "cell_type": "heading",
     "level": 5,
     "metadata": {},
     "source": [
      "Sample mean image as Poisson"
     ]
    },
    {
     "cell_type": "code",
     "collapsed": false,
     "input": [
      "noisy_image= np.random.poisson(mean_image, size=mean_image.shape).astype(np.float32)"
     ],
     "language": "python",
     "metadata": {},
     "outputs": [],
     "prompt_number": 13
    },
    {
     "cell_type": "code",
     "collapsed": false,
     "input": [
      "noisy_plot=plt.imshow(noisy_image, origin='lower')\n",
      "noisy_plot.set_interpolation('nearest')\n",
      "plt.colorbar()\n",
      "plt.show()"
     ],
     "language": "python",
     "metadata": {},
     "outputs": [
      {
       "metadata": {},
       "output_type": "display_data",
       "png": "[encoded data removed]",
       "text": [
        "<matplotlib.figure.Figure at 0x10dab8790>"
       ]
      }
     ],
     "prompt_number": 14
    },
    {
     "cell_type": "heading",
     "level": 5,
     "metadata": {},
     "source": [
      "Sanity check noise"
     ]
    },
    {
     "cell_type": "code",
     "collapsed": false,
     "input": [
      "sigma=dimage.dsigma(noisy_image)"
     ],
     "language": "python",
     "metadata": {},
     "outputs": [],
     "prompt_number": 7
    },
    {
     "cell_type": "code",
     "collapsed": false,
     "input": [
      "print sigma"
     ],
     "language": "python",
     "metadata": {},
     "outputs": [
      {
       "output_type": "stream",
       "stream": "stdout",
       "text": [
        "31.8198051453\n"
       ]
      }
     ],
     "prompt_number": 8
    },
    {
     "cell_type": "code",
     "collapsed": false,
     "input": [],
     "language": "python",
     "metadata": {},
     "outputs": []
    }
   ],
   "metadata": {}
  }
 ]
}